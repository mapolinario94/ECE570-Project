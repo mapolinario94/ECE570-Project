{
 "cells": [
  {
   "cell_type": "code",
   "execution_count": 1,
   "metadata": {
    "collapsed": true
   },
   "outputs": [],
   "source": [
    "import torch\n",
    "from torch import nn\n",
    "from torch.nn import Conv2d, ReLU, Dropout, AvgPool2d\n",
    "from torch.nn import functional as F\n",
    "import torchvision\n",
    "from models.spiking_layers import LinearLIF, Conv2dLIF\n",
    "from models.spiking_models import SpikingModel\n",
    "from models.conversion_method import spike_norm\n",
    "from utils.metrics import timesteps_performance, test\n",
    "from utils.dataloader import load_data\n",
    "import matplotlib.pyplot as plt\n",
    "DEVICE = torch.device('cuda' if torch.cuda.is_available() else 'cpu')"
   ]
  },
  {
   "cell_type": "code",
   "execution_count": 2,
   "outputs": [
    {
     "name": "stdout",
     "output_type": "stream",
     "text": [
      "Files already downloaded and verified\n",
      "Files already downloaded and verified\n"
     ]
    }
   ],
   "source": [
    "train_loader, test_loader, classes_labels = load_data()"
   ],
   "metadata": {
    "collapsed": false,
    "pycharm": {
     "name": "#%%\n"
    }
   }
  },
  {
   "cell_type": "markdown",
   "source": [
    "## VGG5 model"
   ],
   "metadata": {
    "collapsed": false,
    "pycharm": {
     "name": "#%% md\n"
    }
   }
  },
  {
   "cell_type": "code",
   "execution_count": 3,
   "outputs": [
    {
     "name": "stdout",
     "output_type": "stream",
     "text": [
      "Test result on VGG16: Avg loss is 0.24061197743415833, Accuracy: 92.80999755859375%\n"
     ]
    }
   ],
   "source": [
    "class VGG16(nn.Module):\n",
    "    def __init__(self):\n",
    "        super(VGG16, self).__init__()\n",
    "        self.features = nn.Sequential(\n",
    "            nn.Conv2d(3, 64, kernel_size=(3, 3), stride=(1, 1), padding=(1, 1), bias=False),\n",
    "            nn.ReLU(inplace=True),\n",
    "            nn.Dropout(p=0.5, inplace=False),\n",
    "            nn.Conv2d(64, 64, kernel_size=(3, 3), stride=(1, 1), padding=(1, 1), bias=False),\n",
    "            nn.ReLU(inplace=True),\n",
    "            nn.AvgPool2d(kernel_size=2, stride=2, padding=0),\n",
    "            nn.Conv2d(64, 128, kernel_size=(3, 3), stride=(1, 1), padding=(1, 1), bias=False),\n",
    "            nn.ReLU(inplace=True),\n",
    "            nn.Dropout(p=0.5, inplace=False),\n",
    "            nn.Conv2d(128, 128, kernel_size=(3, 3), stride=(1, 1), padding=(1, 1), bias=False),\n",
    "            nn.ReLU(inplace=True),\n",
    "            nn.AvgPool2d(kernel_size=2, stride=2, padding=0),\n",
    "            nn.Conv2d(128, 256, kernel_size=(3, 3), stride=(1, 1), padding=(1, 1), bias=False),\n",
    "            nn.ReLU(inplace=True),\n",
    "            nn.Dropout(p=0.5, inplace=False),\n",
    "            nn.Conv2d(256, 256, kernel_size=(3, 3), stride=(1, 1), padding=(1, 1), bias=False),\n",
    "            nn.ReLU(inplace=True),\n",
    "            nn.Dropout(p=0.5, inplace=False),\n",
    "            nn.Conv2d(256, 256, kernel_size=(3, 3), stride=(1, 1), padding=(1, 1), bias=False),\n",
    "            nn.ReLU(inplace=True),\n",
    "            nn.AvgPool2d(kernel_size=2, stride=2, padding=0),\n",
    "            nn.Conv2d(256, 512, kernel_size=(3, 3), stride=(1, 1), padding=(1, 1), bias=False),\n",
    "            nn.ReLU(inplace=True),\n",
    "            nn.Dropout(p=0.5, inplace=False),\n",
    "            nn.Conv2d(512, 512, kernel_size=(3, 3), stride=(1, 1), padding=(1, 1), bias=False),\n",
    "            nn.ReLU(inplace=True),\n",
    "            nn.Dropout(p=0.5, inplace=False),\n",
    "            nn.Conv2d(512, 512, kernel_size=(3, 3), stride=(1, 1), padding=(1, 1), bias=False),\n",
    "            nn.ReLU(inplace=True),\n",
    "            nn.AvgPool2d(kernel_size=2, stride=2, padding=0),\n",
    "            nn.Conv2d(512, 512, kernel_size=(3, 3), stride=(1, 1), padding=(1, 1), bias=False),\n",
    "            nn.ReLU(inplace=True),\n",
    "            nn.Dropout(p=0.5, inplace=False),\n",
    "            nn.Conv2d(512, 512, kernel_size=(3, 3), stride=(1, 1), padding=(1, 1), bias=False),\n",
    "            nn.ReLU(inplace=True),\n",
    "            nn.Dropout(p=0.5, inplace=False),\n",
    "            nn.Conv2d(512, 512, kernel_size=(3, 3), stride=(1, 1), padding=(1, 1), bias=False),\n",
    "            nn.ReLU(inplace=True),\n",
    "            nn.Dropout(p=0.5, inplace=False)\n",
    "        )\n",
    "\n",
    "        self.classifier = nn.Sequential(\n",
    "            nn.Linear(in_features=2048, out_features=4096, bias=False),\n",
    "            nn.ReLU(inplace=True),\n",
    "            nn.Dropout(p=0.5, inplace=False),\n",
    "            nn.Linear(in_features=4096, out_features=4096, bias=False),\n",
    "            nn.ReLU(inplace=True),\n",
    "            nn.Dropout(p=0.5, inplace=False),\n",
    "            nn.Linear(in_features=4096, out_features=10, bias=False)\n",
    "        )\n",
    "\n",
    "    def forward(self, input):\n",
    "        batch_size = input.shape[0]\n",
    "        x = self.features(input)\n",
    "        x = x.view(batch_size, -1)\n",
    "        x = self.classifier(x)\n",
    "        return x\n",
    "\n",
    "ann_model = VGG16()\n",
    "ann_model.load_state_dict(torch.load(\"../data/pre_trained_models/CANN_VGG16_CIFAR10.pth\"))\n",
    "ann_model.to(DEVICE)\n",
    "ann_loss, ann_acc = test(ann_model, \"VGG16\", test_loader)"
   ],
   "metadata": {
    "collapsed": false,
    "pycharm": {
     "name": "#%%\n"
    }
   }
  },
  {
   "cell_type": "markdown",
   "source": [
    "## Spiking VGG5 with Soft-Reset"
   ],
   "metadata": {
    "collapsed": false,
    "pycharm": {
     "name": "#%% md\n"
    }
   }
  },
  {
   "cell_type": "code",
   "execution_count": 4,
   "outputs": [
    {
     "data": {
      "text/plain": "SpikingModel(\n  (features): Sequential(\n    (0): Conv2dLIF(3, 64, kernel_size=(3, 3), stride=(1, 1), padding=(1, 1), bias=False)\n    (1): ReLU(inplace=True)\n    (2): Dropout(p=0.5, inplace=False)\n    (3): Conv2dLIF(64, 64, kernel_size=(3, 3), stride=(1, 1), padding=(1, 1), bias=False)\n    (4): ReLU(inplace=True)\n    (5): AvgPool2d(kernel_size=2, stride=2, padding=0)\n    (6): Conv2dLIF(64, 128, kernel_size=(3, 3), stride=(1, 1), padding=(1, 1), bias=False)\n    (7): ReLU(inplace=True)\n    (8): Dropout(p=0.5, inplace=False)\n    (9): Conv2dLIF(128, 128, kernel_size=(3, 3), stride=(1, 1), padding=(1, 1), bias=False)\n    (10): ReLU(inplace=True)\n    (11): AvgPool2d(kernel_size=2, stride=2, padding=0)\n    (12): Conv2dLIF(128, 256, kernel_size=(3, 3), stride=(1, 1), padding=(1, 1), bias=False)\n    (13): ReLU(inplace=True)\n    (14): Dropout(p=0.5, inplace=False)\n    (15): Conv2dLIF(256, 256, kernel_size=(3, 3), stride=(1, 1), padding=(1, 1), bias=False)\n    (16): ReLU(inplace=True)\n    (17): Dropout(p=0.5, inplace=False)\n    (18): Conv2dLIF(256, 256, kernel_size=(3, 3), stride=(1, 1), padding=(1, 1), bias=False)\n    (19): ReLU(inplace=True)\n    (20): AvgPool2d(kernel_size=2, stride=2, padding=0)\n    (21): Conv2dLIF(256, 512, kernel_size=(3, 3), stride=(1, 1), padding=(1, 1), bias=False)\n    (22): ReLU(inplace=True)\n    (23): Dropout(p=0.5, inplace=False)\n    (24): Conv2dLIF(512, 512, kernel_size=(3, 3), stride=(1, 1), padding=(1, 1), bias=False)\n    (25): ReLU(inplace=True)\n    (26): Dropout(p=0.5, inplace=False)\n    (27): Conv2dLIF(512, 512, kernel_size=(3, 3), stride=(1, 1), padding=(1, 1), bias=False)\n    (28): ReLU(inplace=True)\n    (29): AvgPool2d(kernel_size=2, stride=2, padding=0)\n    (30): Conv2dLIF(512, 512, kernel_size=(3, 3), stride=(1, 1), padding=(1, 1), bias=False)\n    (31): ReLU(inplace=True)\n    (32): Dropout(p=0.5, inplace=False)\n    (33): Conv2dLIF(512, 512, kernel_size=(3, 3), stride=(1, 1), padding=(1, 1), bias=False)\n    (34): ReLU(inplace=True)\n    (35): Dropout(p=0.5, inplace=False)\n    (36): Conv2dLIF(512, 512, kernel_size=(3, 3), stride=(1, 1), padding=(1, 1), bias=False)\n    (37): ReLU(inplace=True)\n    (38): Dropout(p=0.5, inplace=False)\n  )\n  (classifier): Sequential(\n    (0): LinearLIF(\n      in_features=2048, \n      out_features=4096, \n      bias=False, \n      leak=1.0, \n      threshold=1.0\n    )\n    (1): ReLU(inplace=True)\n    (2): Dropout(p=0.5, inplace=False)\n    (3): LinearLIF(\n      in_features=4096, \n      out_features=4096, \n      bias=False, \n      leak=1.0, \n      threshold=1.0\n    )\n    (4): ReLU(inplace=True)\n    (5): Dropout(p=0.5, inplace=False)\n    (6): LinearLIF(\n      in_features=4096, \n      out_features=10, \n      bias=False, \n      leak=1.0, \n      threshold=1.0\n    )\n  )\n)"
     },
     "execution_count": 4,
     "metadata": {},
     "output_type": "execute_result"
    }
   ],
   "source": [
    "features = nn.Sequential(\n",
    "        Conv2dLIF(3, 64, kernel_size=(3, 3), stride=(1, 1), padding=(1, 1), bias=False),\n",
    "        ReLU(inplace=True),\n",
    "        Dropout(p=0.5, inplace=False),\n",
    "        Conv2dLIF(64, 64, kernel_size=(3, 3), stride=(1, 1), padding=(1, 1), bias=False),\n",
    "        ReLU(inplace=True),\n",
    "        AvgPool2d(kernel_size=2, stride=2, padding=0),\n",
    "        Conv2dLIF(64, 128, kernel_size=(3, 3), stride=(1, 1), padding=(1, 1), bias=False),\n",
    "        ReLU(inplace=True),\n",
    "        Dropout(p=0.5, inplace=False),\n",
    "        Conv2dLIF(128, 128, kernel_size=(3, 3), stride=(1, 1), padding=(1, 1), bias=False),\n",
    "        ReLU(inplace=True),\n",
    "        AvgPool2d(kernel_size=2, stride=2, padding=0),\n",
    "        Conv2dLIF(128, 256, kernel_size=(3, 3), stride=(1, 1), padding=(1, 1), bias=False),\n",
    "        ReLU(inplace=True),\n",
    "        Dropout(p=0.5, inplace=False),\n",
    "        Conv2dLIF(256, 256, kernel_size=(3, 3), stride=(1, 1), padding=(1, 1), bias=False),\n",
    "        ReLU(inplace=True),\n",
    "        Dropout(p=0.5, inplace=False),\n",
    "        Conv2dLIF(256, 256, kernel_size=(3, 3), stride=(1, 1), padding=(1, 1), bias=False),\n",
    "        ReLU(inplace=True),\n",
    "        AvgPool2d(kernel_size=2, stride=2, padding=0),\n",
    "        Conv2dLIF(256, 512, kernel_size=(3, 3), stride=(1, 1), padding=(1, 1), bias=False),\n",
    "        ReLU(inplace=True),\n",
    "        Dropout(p=0.5, inplace=False),\n",
    "        Conv2dLIF(512, 512, kernel_size=(3, 3), stride=(1, 1), padding=(1, 1), bias=False),\n",
    "        ReLU(inplace=True),\n",
    "        Dropout(p=0.5, inplace=False),\n",
    "        Conv2dLIF(512, 512, kernel_size=(3, 3), stride=(1, 1), padding=(1, 1), bias=False),\n",
    "        ReLU(inplace=True),\n",
    "        AvgPool2d(kernel_size=2, stride=2, padding=0),\n",
    "        Conv2dLIF(512, 512, kernel_size=(3, 3), stride=(1, 1), padding=(1, 1), bias=False),\n",
    "        ReLU(inplace=True),\n",
    "        Dropout(p=0.5, inplace=False),\n",
    "        Conv2dLIF(512, 512, kernel_size=(3, 3), stride=(1, 1), padding=(1, 1), bias=False),\n",
    "        ReLU(inplace=True),\n",
    "        Dropout(p=0.5, inplace=False),\n",
    "        Conv2dLIF(512, 512, kernel_size=(3, 3), stride=(1, 1), padding=(1, 1), bias=False),\n",
    "        ReLU(inplace=True),\n",
    "        Dropout(p=0.5, inplace=False)\n",
    "        )\n",
    "\n",
    "classifier = nn.Sequential(\n",
    "        LinearLIF(in_features=2048, out_features=4096, bias=False),\n",
    "        nn.ReLU(inplace=True),\n",
    "        nn.Dropout(p=0.5, inplace=False),\n",
    "        LinearLIF(in_features=4096, out_features=4096, bias=False),\n",
    "        nn.ReLU(inplace=True),\n",
    "        nn.Dropout(p=0.5, inplace=False),\n",
    "        LinearLIF(in_features=4096, out_features=10, bias=False),\n",
    "        )\n",
    "timesteps = 20\n",
    "snn_sr_model = SpikingModel(features, classifier, timesteps, device=DEVICE)\n",
    "snn_sr_model.to(DEVICE)\n",
    "# snn_sr_model.load_state_dict(torch.load(\"../data/pre_trained_models/SNN_SR_VGG16_20ts.pth\"))"
   ],
   "metadata": {
    "collapsed": false,
    "pycharm": {
     "name": "#%%\n"
    }
   }
  },
  {
   "cell_type": "code",
   "execution_count": 5,
   "outputs": [
    {
     "name": "stdout",
     "output_type": "stream",
     "text": [
      "Test result on Spiking VGG16 before conversion: Avg loss is 2.302584887313843, Accuracy: 10.0%\n"
     ]
    }
   ],
   "source": [
    "snn_sr_loss, snn_sr_acc = test(snn_sr_model, \"Spiking VGG16 before conversion\", test_loader)"
   ],
   "metadata": {
    "collapsed": false,
    "pycharm": {
     "name": "#%%\n"
    }
   }
  },
  {
   "cell_type": "markdown",
   "source": [
    "## ANN to SNN Conversion"
   ],
   "metadata": {
    "collapsed": false,
    "pycharm": {
     "name": "#%% md\n"
    }
   }
  },
  {
   "cell_type": "code",
   "execution_count": 10,
   "outputs": [
    {
     "name": "stdout",
     "output_type": "stream",
     "text": [
      "\n",
      " Missing keys : ['features.0.leak', 'features.0.threshold', 'features.3.leak', 'features.3.threshold', 'features.6.leak', 'features.6.threshold', 'classifier.0.leak', 'classifier.0.threshold', 'classifier.3.leak', 'classifier.3.threshold', 'classifier.6.leak', 'classifier.6.threshold']\n",
      " Unexpected Keys: []\n",
      "Conv2dLIF(3, 64, kernel_size=(3, 3), stride=(1, 1), padding=(1, 1), bias=False)\n",
      "Threshold: 22.955711364746094\n",
      "Conv2dLIF(64, 128, kernel_size=(3, 3), stride=(1, 1), padding=(1, 1), bias=False)\n",
      "Threshold: 2.2671780586242676\n",
      "Conv2dLIF(128, 128, kernel_size=(3, 3), stride=(1, 1), padding=(1, 1), bias=False)\n",
      "Threshold: 1.6751294136047363\n",
      "LinearLIF(\n",
      "  in_features=8192, \n",
      "  out_features=1024, \n",
      "  bias=False, \n",
      "  leak=1.0, \n",
      "  threshold=0.3358011245727539\n",
      ")\n",
      "Threshold: 0.3358011245727539\n",
      "LinearLIF(\n",
      "  in_features=1024, \n",
      "  out_features=1024, \n",
      "  bias=False, \n",
      "  leak=1.0, \n",
      "  threshold=0.47430211305618286\n",
      ")\n",
      "Threshold: 0.47430211305618286\n",
      "LinearLIF(\n",
      "  in_features=1024, \n",
      "  out_features=10, \n",
      "  bias=False, \n",
      "  leak=1.0, \n",
      "  threshold=10.601996421813965\n",
      ")\n",
      "Threshold: 10.601996421813965\n",
      "Test result on Spiking VGG5 after conversion: Avg loss is 2.19674168548584, Accuracy: 38.36000061035156%\n"
     ]
    }
   ],
   "source": [
    "snn_sr_model = spike_norm(ann_model, snn_sr_model, train_loader, DEVICE, timesteps)\n"
   ],
   "metadata": {
    "collapsed": false,
    "pycharm": {
     "name": "#%%\n"
    }
   }
  },
  {
   "cell_type": "code",
   "execution_count": null,
   "outputs": [],
   "source": [
    "snn_sr_loss, snn_sr_acc = test(snn_sr_model, \"Spiking VGG16 after conversion\", test_loader)"
   ],
   "metadata": {
    "collapsed": false,
    "pycharm": {
     "name": "#%%\n"
    }
   }
  },
  {
   "cell_type": "code",
   "execution_count": 11,
   "outputs": [],
   "source": [
    "torch.save(snn_sr_model.state_dict(), \"../data/pre_trained_models/SNN_SR_VGG16_20ts.pth\")\n",
    "# Saving SNN SR model"
   ],
   "metadata": {
    "collapsed": false,
    "pycharm": {
     "name": "#%%\n"
    }
   }
  },
  {
   "cell_type": "markdown",
   "source": [
    "## Performance with number of timesteps"
   ],
   "metadata": {
    "collapsed": false,
    "pycharm": {
     "name": "#%% md\n"
    }
   }
  },
  {
   "cell_type": "code",
   "execution_count": null,
   "outputs": [
    {
     "name": "stdout",
     "output_type": "stream",
     "text": [
      "Test result on Timesteps=10: Avg loss is 2.302584887313843, Accuracy: 10.0%\n",
      "Test result on Timesteps=20: Avg loss is 2.302584887313843, Accuracy: 10.0%\n",
      "Test result on Timesteps=30: Avg loss is 2.30226982383728, Accuracy: 10.019999504089355%\n",
      "Test result on Timesteps=40: Avg loss is 2.293812719345093, Accuracy: 10.809999465942383%\n"
     ]
    }
   ],
   "source": [
    "num_timesteps = [10, 20, 30, 40, 50, 100, 200, 300]\n",
    "\n",
    "acc_list = []\n",
    "scales = [1, 0.8, 0.6, 0.4, 0.2]\n",
    "for scaling_factor in scales:\n",
    "    _, acc_factor = timesteps_performance(snn_sr_model, test_loader, num_timesteps, scaling_factor)\n",
    "    acc_list.append(acc_factor)\n",
    "\n",
    "fig = plt.figure(\"Acc vs Timesteps\")\n",
    "plt.plot([ann_acc]*len(num_timesteps), \"-o\")\n",
    "for k in range(len(scales)):\n",
    "    plt.plot(acc_list[k], \"-o\")\n",
    "plt.legend([\"ANN\", \"SNN Vth\", \"SNN Vth*0.8\", \"SNN Vth*0.6\", \"SNN Vth*0.4\", \"SNN Vth*0.2\"])\n",
    "plt.xlabel(\"No. Timesteps\")\n",
    "plt.ylabel(\"Accuracy\")\n",
    "plt.xticks(range(8), [str(k) for k in num_timesteps])\n",
    "plt.grid(True)\n",
    "plt.show()"
   ],
   "metadata": {
    "collapsed": false,
    "pycharm": {
     "name": "#%%\n",
     "is_executing": true
    }
   }
  },
  {
   "cell_type": "code",
   "execution_count": null,
   "outputs": [],
   "source": [
    "image_format = 'svg'  # e.g .png, .svg, etc.\n",
    "image_name = 'vgg16_snn_sr_acc_timesteps.svg'\n",
    "fig.savefig(image_name, format=image_format, dpi=1200)"
   ],
   "metadata": {
    "collapsed": false,
    "pycharm": {
     "name": "#%%\n",
     "is_executing": true
    }
   }
  },
  {
   "cell_type": "code",
   "execution_count": null,
   "outputs": [],
   "source": [
    "import numpy as np\n",
    "np.save(\"acc_snn_vgg16_sr.npy\", np.array(acc_list))\n"
   ],
   "metadata": {
    "collapsed": false,
    "pycharm": {
     "name": "#%%\n"
    }
   }
  }
 ],
 "metadata": {
  "kernelspec": {
   "display_name": "Python 3",
   "language": "python",
   "name": "python3"
  },
  "language_info": {
   "codemirror_mode": {
    "name": "ipython",
    "version": 2
   },
   "file_extension": ".py",
   "mimetype": "text/x-python",
   "name": "python",
   "nbconvert_exporter": "python",
   "pygments_lexer": "ipython2",
   "version": "2.7.6"
  }
 },
 "nbformat": 4,
 "nbformat_minor": 0
}