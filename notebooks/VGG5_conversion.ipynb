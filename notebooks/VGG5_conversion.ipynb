{
 "cells": [
  {
   "cell_type": "code",
   "execution_count": 1,
   "metadata": {
    "collapsed": true
   },
   "outputs": [],
   "source": [
    "import torch\n",
    "from torch import nn\n",
    "from torch.nn import functional as F\n",
    "import torchvision\n",
    "from models.spiking_layers import LinearLIF, Conv2dLIF\n",
    "from models.spiking_models import SpikingModel\n",
    "from models.conversion_method import spike_norm\n",
    "from utils.metrics import timesteps_performance, test\n",
    "from utils.dataloader import load_data\n",
    "import matplotlib.pyplot as plt\n",
    "DEVICE = torch.device('cuda' if torch.cuda.is_available() else 'cpu')"
   ]
  },
  {
   "cell_type": "code",
   "execution_count": 2,
   "outputs": [
    {
     "name": "stdout",
     "output_type": "stream",
     "text": [
      "Files already downloaded and verified\n",
      "Files already downloaded and verified\n"
     ]
    }
   ],
   "source": [
    "train_loader, test_loader, classes_labels = load_data()"
   ],
   "metadata": {
    "collapsed": false,
    "pycharm": {
     "name": "#%%\n"
    }
   }
  },
  {
   "cell_type": "markdown",
   "source": [
    "## VGG5 model"
   ],
   "metadata": {
    "collapsed": false,
    "pycharm": {
     "name": "#%% md\n"
    }
   }
  },
  {
   "cell_type": "code",
   "execution_count": 3,
   "outputs": [
    {
     "name": "stdout",
     "output_type": "stream",
     "text": [
      "Test result on VGG5: Avg loss is 0.3297829836845398, Accuracy: 89.31999969482422%\n"
     ]
    }
   ],
   "source": [
    "class VGG5(nn.Module):\n",
    "    def __init__(self):\n",
    "        super(VGG5, self).__init__()\n",
    "        self.features = nn.Sequential(\n",
    "            nn.Conv2d(3, 64, kernel_size=(3, 3), stride=(1, 1), padding=(1, 1), bias=False),\n",
    "            nn.ReLU(inplace=True),\n",
    "            nn.AvgPool2d(kernel_size=2, stride=2, padding=0),\n",
    "            nn.Conv2d(64, 128, kernel_size=(3, 3), stride=(1, 1), padding=(1, 1), bias=False),\n",
    "            nn.ReLU(inplace=True),\n",
    "            nn.Dropout(p=0.5, inplace=False),\n",
    "            nn.Conv2d(128, 128, kernel_size=(3, 3), stride=(1, 1), padding=(1, 1), bias=False),\n",
    "            nn.ReLU(inplace=True),\n",
    "            nn.AvgPool2d(kernel_size=2, stride=2, padding=0)\n",
    "        )\n",
    "\n",
    "        self.classifier = nn.Sequential(\n",
    "            nn.Linear(in_features=8192, out_features=1024, bias=False),\n",
    "            nn.ReLU(inplace=True),\n",
    "            nn.Dropout(p=0.5, inplace=False),\n",
    "            nn.Linear(in_features=1024, out_features=1024, bias=False),\n",
    "            nn.ReLU(inplace=True),\n",
    "            nn.Dropout(p=0.5, inplace=False),\n",
    "            nn.Linear(in_features=1024, out_features=10, bias=False),\n",
    "        )\n",
    "\n",
    "    def forward(self, input):\n",
    "        batch_size = input.shape[0]\n",
    "        x = self.features(input)\n",
    "        x = x.view(batch_size, -1)\n",
    "        x = self.classifier(x)\n",
    "        return x\n",
    "\n",
    "ann_model = VGG5()\n",
    "ann_model.load_state_dict(torch.load(\"../data/pre_trained_models/CANN_VGG5_CIFAR10.pth\"))\n",
    "ann_model.to(DEVICE)\n",
    "ann_loss, ann_acc = test(ann_model, \"VGG5\", test_loader)"
   ],
   "metadata": {
    "collapsed": false,
    "pycharm": {
     "name": "#%%\n"
    }
   }
  },
  {
   "cell_type": "markdown",
   "source": [
    "## Spiking VGG5 with Soft-Reset"
   ],
   "metadata": {
    "collapsed": false,
    "pycharm": {
     "name": "#%% md\n"
    }
   }
  },
  {
   "cell_type": "code",
   "execution_count": 4,
   "outputs": [
    {
     "data": {
      "text/plain": "<All keys matched successfully>"
     },
     "execution_count": 4,
     "metadata": {},
     "output_type": "execute_result"
    }
   ],
   "source": [
    "features = nn.Sequential(\n",
    "        Conv2dLIF(3, 64, kernel_size=(3, 3), stride=(1, 1), padding=(1, 1), bias=False),\n",
    "        nn.ReLU(inplace=True),\n",
    "        nn.AvgPool2d(kernel_size=2, stride=2, padding=0),\n",
    "        Conv2dLIF(64, 128, kernel_size=(3, 3), stride=(1, 1), padding=(1, 1), bias=False),\n",
    "        nn.ReLU(inplace=True),\n",
    "        nn.Dropout(p=0.5, inplace=False),\n",
    "        Conv2dLIF(128, 128, kernel_size=(3, 3), stride=(1, 1), padding=(1, 1), bias=False),\n",
    "        nn.ReLU(inplace=True),\n",
    "        nn.AvgPool2d(kernel_size=2, stride=2, padding=0)\n",
    "        )\n",
    "\n",
    "classifier = nn.Sequential(\n",
    "        LinearLIF(in_features=8192, out_features=1024, bias=False),\n",
    "        nn.ReLU(inplace=True),\n",
    "        nn.Dropout(p=0.5, inplace=False),\n",
    "        LinearLIF(in_features=1024, out_features=1024, bias=False),\n",
    "        nn.ReLU(inplace=True),\n",
    "        nn.Dropout(p=0.5, inplace=False),\n",
    "        LinearLIF(in_features=1024, out_features=10, bias=False)\n",
    "        )\n",
    "timesteps = 100\n",
    "snn_sr_model = SpikingModel(features, classifier, timesteps, device=DEVICE)\n",
    "snn_sr_model.to(DEVICE)\n",
    "snn_sr_model.load_state_dict(torch.load(\"../data/pre_trained_models/SNN_SR_VGG5_100ts.pth\"))"
   ],
   "metadata": {
    "collapsed": false,
    "pycharm": {
     "name": "#%%\n"
    }
   }
  },
  {
   "cell_type": "code",
   "execution_count": null,
   "outputs": [],
   "source": [
    "snn_sr_loss, snn_sr_acc = test(snn_sr_model, \"Spiking VGG5 before conversion\", test_loader)"
   ],
   "metadata": {
    "collapsed": false,
    "pycharm": {
     "name": "#%%\n"
    }
   }
  },
  {
   "cell_type": "markdown",
   "source": [
    "## ANN to SNN Conversion"
   ],
   "metadata": {
    "collapsed": false,
    "pycharm": {
     "name": "#%% md\n"
    }
   }
  },
  {
   "cell_type": "code",
   "execution_count": 10,
   "outputs": [
    {
     "name": "stdout",
     "output_type": "stream",
     "text": [
      "\n",
      " Missing keys : ['features.0.leak', 'features.0.threshold', 'features.3.leak', 'features.3.threshold', 'features.6.leak', 'features.6.threshold', 'classifier.0.leak', 'classifier.0.threshold', 'classifier.3.leak', 'classifier.3.threshold', 'classifier.6.leak', 'classifier.6.threshold']\n",
      " Unexpected Keys: []\n",
      "Conv2dLIF(3, 64, kernel_size=(3, 3), stride=(1, 1), padding=(1, 1), bias=False)\n",
      "Threshold: 22.955711364746094\n",
      "Conv2dLIF(64, 128, kernel_size=(3, 3), stride=(1, 1), padding=(1, 1), bias=False)\n",
      "Threshold: 2.2671780586242676\n",
      "Conv2dLIF(128, 128, kernel_size=(3, 3), stride=(1, 1), padding=(1, 1), bias=False)\n",
      "Threshold: 1.6751294136047363\n",
      "LinearLIF(\n",
      "  in_features=8192, \n",
      "  out_features=1024, \n",
      "  bias=False, \n",
      "  leak=1.0, \n",
      "  threshold=0.3358011245727539\n",
      ")\n",
      "Threshold: 0.3358011245727539\n",
      "LinearLIF(\n",
      "  in_features=1024, \n",
      "  out_features=1024, \n",
      "  bias=False, \n",
      "  leak=1.0, \n",
      "  threshold=0.47430211305618286\n",
      ")\n",
      "Threshold: 0.47430211305618286\n",
      "LinearLIF(\n",
      "  in_features=1024, \n",
      "  out_features=10, \n",
      "  bias=False, \n",
      "  leak=1.0, \n",
      "  threshold=10.601996421813965\n",
      ")\n",
      "Threshold: 10.601996421813965\n",
      "Test result on Spiking VGG5 after conversion: Avg loss is 2.19674168548584, Accuracy: 38.36000061035156%\n"
     ]
    }
   ],
   "source": [
    "snn_sr_model = spike_norm(ann_model, snn_sr_model, train_loader, DEVICE, timesteps)\n"
   ],
   "metadata": {
    "collapsed": false,
    "pycharm": {
     "name": "#%%\n"
    }
   }
  },
  {
   "cell_type": "code",
   "execution_count": null,
   "outputs": [],
   "source": [
    "snn_sr_loss, snn_sr_acc = test(snn_sr_model, \"Spiking VGG5 after conversion\", test_loader)"
   ],
   "metadata": {
    "collapsed": false,
    "pycharm": {
     "name": "#%%\n"
    }
   }
  },
  {
   "cell_type": "code",
   "execution_count": 11,
   "outputs": [],
   "source": [
    "torch.save(snn_sr_model.state_dict(), \"../data/pre_trained_models/SNN_SR_VGG5_100ts.pth\")\n",
    "# Saving SNN SR model"
   ],
   "metadata": {
    "collapsed": false,
    "pycharm": {
     "name": "#%%\n"
    }
   }
  },
  {
   "cell_type": "markdown",
   "source": [
    "## Spiking VGG5 with Hard-Reset"
   ],
   "metadata": {
    "collapsed": false,
    "pycharm": {
     "name": "#%% md\n"
    }
   }
  },
  {
   "cell_type": "code",
   "execution_count": 5,
   "outputs": [
    {
     "data": {
      "text/plain": "<All keys matched successfully>"
     },
     "execution_count": 5,
     "metadata": {},
     "output_type": "execute_result"
    }
   ],
   "source": [
    "features = nn.Sequential(\n",
    "        Conv2dLIF(3, 64, kernel_size=(3, 3), stride=(1, 1), padding=(1, 1), bias=False, reset=\"hard\"),\n",
    "        nn.ReLU(inplace=True),\n",
    "        nn.AvgPool2d(kernel_size=2, stride=2, padding=0),\n",
    "        Conv2dLIF(64, 128, kernel_size=(3, 3), stride=(1, 1), padding=(1, 1), bias=False, reset=\"hard\"),\n",
    "        nn.ReLU(inplace=True),\n",
    "        nn.Dropout(p=0.5, inplace=False),\n",
    "        Conv2dLIF(128, 128, kernel_size=(3, 3), stride=(1, 1), padding=(1, 1), bias=False, reset=\"hard\"),\n",
    "        nn.ReLU(inplace=True),\n",
    "        nn.AvgPool2d(kernel_size=2, stride=2, padding=0)\n",
    "        )\n",
    "\n",
    "classifier = nn.Sequential(\n",
    "        LinearLIF(in_features=8192, out_features=1024, bias=False, reset=\"hard\"),\n",
    "        nn.ReLU(inplace=True),\n",
    "        nn.Dropout(p=0.5, inplace=False),\n",
    "        LinearLIF(in_features=1024, out_features=1024, bias=False, reset=\"hard\"),\n",
    "        nn.ReLU(inplace=True),\n",
    "        nn.Dropout(p=0.5, inplace=False),\n",
    "        LinearLIF(in_features=1024, out_features=10, bias=False, reset=\"hard\")\n",
    "        )\n",
    "timesteps = 100\n",
    "snn_hr_model = SpikingModel(features, classifier, timesteps, device=DEVICE)\n",
    "snn_hr_model.to(DEVICE)\n",
    "snn_hr_model.load_state_dict(torch.load(\"../data/pre_trained_models/SNN_HR_VGG5_100ts.pth\"))"
   ],
   "metadata": {
    "collapsed": false,
    "pycharm": {
     "name": "#%%\n"
    }
   }
  },
  {
   "cell_type": "code",
   "execution_count": null,
   "outputs": [],
   "source": [
    "snn_hr_loss, snn_hr_acc = test(snn_hr_model, \"Spiking VGG5 before conversion\", test_loader)"
   ],
   "metadata": {
    "collapsed": false,
    "pycharm": {
     "name": "#%%\n"
    }
   }
  },
  {
   "cell_type": "markdown",
   "source": [
    "## ANN to SNN Conversion"
   ],
   "metadata": {
    "collapsed": false
   }
  },
  {
   "cell_type": "code",
   "execution_count": 13,
   "outputs": [
    {
     "name": "stdout",
     "output_type": "stream",
     "text": [
      "\n",
      " Missing keys : ['features.0.leak', 'features.0.threshold', 'features.3.leak', 'features.3.threshold', 'features.6.leak', 'features.6.threshold', 'classifier.0.leak', 'classifier.0.threshold', 'classifier.3.leak', 'classifier.3.threshold', 'classifier.6.leak', 'classifier.6.threshold']\n",
      " Unexpected Keys: []\n",
      "Conv2dLIF(3, 64, kernel_size=(3, 3), stride=(1, 1), padding=(1, 1), bias=False)\n",
      "Threshold: 22.955711364746094\n",
      "Conv2dLIF(64, 128, kernel_size=(3, 3), stride=(1, 1), padding=(1, 1), bias=False)\n",
      "Threshold: 3.022050619125366\n",
      "Conv2dLIF(128, 128, kernel_size=(3, 3), stride=(1, 1), padding=(1, 1), bias=False)\n",
      "Threshold: 2.204780340194702\n",
      "LinearLIF(\n",
      "  in_features=8192, \n",
      "  out_features=1024, \n",
      "  bias=False, \n",
      "  leak=1.0, \n",
      "  threshold=0.28566956520080566\n",
      ")\n",
      "Threshold: 0.28566956520080566\n",
      "LinearLIF(\n",
      "  in_features=1024, \n",
      "  out_features=1024, \n",
      "  bias=False, \n",
      "  leak=1.0, \n",
      "  threshold=0.4563365578651428\n",
      ")\n",
      "Threshold: 0.4563365578651428\n",
      "LinearLIF(\n",
      "  in_features=1024, \n",
      "  out_features=10, \n",
      "  bias=False, \n",
      "  leak=1.0, \n",
      "  threshold=10.848047256469727\n",
      ")\n",
      "Threshold: 10.848047256469727\n"
     ]
    }
   ],
   "source": [
    "snn_hr_model = spike_norm(ann_model, snn_hr_model, train_loader, DEVICE, timesteps)"
   ],
   "metadata": {
    "collapsed": false,
    "pycharm": {
     "name": "#%%\n"
    }
   }
  },
  {
   "cell_type": "code",
   "execution_count": 14,
   "outputs": [
    {
     "name": "stdout",
     "output_type": "stream",
     "text": [
      "Test result on Spiking VGG5 after conversion: Avg loss is 2.2204186897277833, Accuracy: 20.5%\n"
     ]
    }
   ],
   "source": [
    "snn_hr_loss, snn_hr_acc = test(snn_hr_model, \"Spiking VGG5 after conversion\", test_loader)"
   ],
   "metadata": {
    "collapsed": false,
    "pycharm": {
     "name": "#%%\n"
    }
   }
  },
  {
   "cell_type": "code",
   "execution_count": 15,
   "outputs": [],
   "source": [
    "torch.save(snn_hr_model.state_dict(), \"../data/pre_trained_models/SNN_HR_VGG5_100ts.pth\")\n",
    "# Saving SNN SR model"
   ],
   "metadata": {
    "collapsed": false,
    "pycharm": {
     "name": "#%%\n"
    }
   }
  },
  {
   "cell_type": "markdown",
   "source": [
    "## Performance with number of timesteps"
   ],
   "metadata": {
    "collapsed": false
   }
  },
  {
   "cell_type": "code",
   "execution_count": null,
   "outputs": [],
   "source": [
    "num_timesteps = [10, 20, 30, 40, 50, 100, 200, 300]\n",
    "\n",
    "acc_list = []\n",
    "for scaling_factor in [1, 0.8, 0.6, 0.4, 0.2]:\n",
    "    _, acc_factor = timesteps_performance(snn_hr_model, test_loader, num_timesteps, scaling_factor)\n",
    "    acc_list.append(acc_factor)\n",
    "\n",
    "scales = [1, 0.8, 0.6, 0.4, 0.2]\n",
    "fig = plt.figure(\"Acc vs Timesteps\")\n",
    "plt.plot([ann_acc]*len(num_timesteps), \"-o\")\n",
    "for k in range(5):\n",
    "    plt.plot(acc_list[k], \"-o\")\n",
    "plt.legend([\"ANN\", \"SNN Vth\", \"SNN Vth*0.8\", \"SNN Vth*0.6\", \"SNN Vth*0.4\", \"SNN Vth*0.2\"])\n",
    "plt.xlabel(\"No. Timesteps\")\n",
    "plt.ylabel(\"Accuracy\")\n",
    "plt.xticks(range(8), [str(k) for k in num_timesteps])\n",
    "plt.grid(True)\n",
    "plt.show()"
   ],
   "metadata": {
    "collapsed": false,
    "pycharm": {
     "name": "#%%\n"
    }
   }
  },
  {
   "cell_type": "code",
   "execution_count": null,
   "outputs": [],
   "source": [
    "image_format = 'png'  # e.g .png, .svg, etc.\n",
    "image_name = 'vgg5_snn_sr_acc_timesteps.png'\n",
    "fig.savefig(image_name, format=image_format, dpi=1200)"
   ],
   "metadata": {
    "collapsed": false,
    "pycharm": {
     "name": "#%%\n"
    }
   }
  },
  {
   "cell_type": "markdown",
   "source": [
    "## Performance with number of timesteps"
   ],
   "metadata": {
    "collapsed": false,
    "pycharm": {
     "name": "#%% md\n"
    }
   }
  },
  {
   "cell_type": "code",
   "execution_count": null,
   "outputs": [
    {
     "name": "stdout",
     "output_type": "stream",
     "text": [
      "Test result on Timesteps=10: Avg loss is 2.302584887313843, Accuracy: 10.0%\n",
      "Test result on Timesteps=20: Avg loss is 2.302584887313843, Accuracy: 10.0%\n",
      "Test result on Timesteps=30: Avg loss is 2.30226982383728, Accuracy: 10.019999504089355%\n",
      "Test result on Timesteps=40: Avg loss is 2.293812719345093, Accuracy: 10.809999465942383%\n",
      "Test result on Timesteps=50: Avg loss is 2.2657479942321777, Accuracy: 13.880000114440918%\n",
      "Test result on Timesteps=100: Avg loss is 2.1967223617553713, Accuracy: 38.36000061035156%\n",
      "Test result on Timesteps=200: Avg loss is 3.187659564971924, Accuracy: 30.299999237060547%\n"
     ]
    }
   ],
   "source": [
    "num_timesteps = [10, 20, 30, 40, 50, 100, 200, 300]\n",
    "\n",
    "acc_list = []\n",
    "scales = [1, 0.8, 0.6, 0.4, 0.2]\n",
    "for scaling_factor in scales:\n",
    "    _, acc_factor = timesteps_performance(snn_sr_model, test_loader, num_timesteps, scaling_factor)\n",
    "    acc_list.append(acc_factor)\n",
    "\n",
    "fig = plt.figure(\"Acc vs Timesteps\")\n",
    "plt.plot([ann_acc]*len(num_timesteps), \"-o\")\n",
    "for k in range(len(scales)):\n",
    "    plt.plot(acc_list[k], \"-o\")\n",
    "plt.legend([\"ANN\", \"SNN Vth\", \"SNN Vth*0.8\", \"SNN Vth*0.6\", \"SNN Vth*0.4\", \"SNN Vth*0.2\"])\n",
    "plt.xlabel(\"No. Timesteps\")\n",
    "plt.ylabel(\"Accuracy\")\n",
    "plt.xticks(range(8), [str(k) for k in num_timesteps])\n",
    "plt.grid(True)\n",
    "plt.show()"
   ],
   "metadata": {
    "collapsed": false,
    "pycharm": {
     "name": "#%%\n",
     "is_executing": true
    }
   }
  },
  {
   "cell_type": "code",
   "execution_count": null,
   "outputs": [],
   "source": [
    "image_format = 'svg'  # e.g .png, .svg, etc.\n",
    "image_name = 'vgg5_snn_sr_acc_timesteps.svg'\n",
    "fig.savefig(image_name, format=image_format, dpi=1200)"
   ],
   "metadata": {
    "collapsed": false,
    "pycharm": {
     "name": "#%%\n",
     "is_executing": true
    }
   }
  },
  {
   "cell_type": "code",
   "execution_count": null,
   "outputs": [],
   "source": [
    "import numpy as np\n",
    "np.save(\"acc_snn_vgg5_sr.npy\", np.array(acc_list))\n",
    "\n",
    "\n"
   ],
   "metadata": {
    "collapsed": false,
    "pycharm": {
     "name": "#%%\n",
     "is_executing": true
    }
   }
  },
  {
   "cell_type": "code",
   "execution_count": null,
   "outputs": [],
   "source": [],
   "metadata": {
    "collapsed": false,
    "pycharm": {
     "name": "#%%\n"
    }
   }
  }
 ],
 "metadata": {
  "kernelspec": {
   "display_name": "Python 3",
   "language": "python",
   "name": "python3"
  },
  "language_info": {
   "codemirror_mode": {
    "name": "ipython",
    "version": 2
   },
   "file_extension": ".py",
   "mimetype": "text/x-python",
   "name": "python",
   "nbconvert_exporter": "python",
   "pygments_lexer": "ipython2",
   "version": "2.7.6"
  }
 },
 "nbformat": 4,
 "nbformat_minor": 0
}